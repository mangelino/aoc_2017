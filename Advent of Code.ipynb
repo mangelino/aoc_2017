{
 "cells": [
  {
   "cell_type": "code",
   "execution_count": null,
   "metadata": {
    "collapsed": true
   },
   "outputs": [],
   "source": [
    "#Day 1\n",
    "\n",
    "input = \n",
    "\n"
   ]
  },
  {
   "cell_type": "markdown",
   "metadata": {},
   "source": [
    "--- Day 2: Corruption Checksum ---\n",
    "\n",
    "As you walk through the door, a glowing humanoid shape yells in your direction. \"You there! Your state appears to be idle. Come help us repair the corruption in this spreadsheet - if we take another millisecond, we'll have to display an hourglass cursor!\"\n",
    "\n",
    "The spreadsheet consists of rows of apparently-random numbers. To make sure the recovery process is on the right track, they need you to calculate the spreadsheet's checksum. For each row, determine the difference between the largest value and the smallest value; the checksum is the sum of all of these differences.\n",
    "\n",
    "For example, given the following spreadsheet:\n",
    "\n",
    "`\n",
    "5 1 9 5\n",
    "7 5 3\n",
    "2 4 6 8\n",
    "`\n",
    "\n",
    "    The first row's largest and smallest values are 9 and 1, and their difference is 8.\n",
    "    The second row's largest and smallest values are 7 and 3, and their difference is 4.\n",
    "    The third row's difference is 6.\n",
    "\n",
    "In this example, the spreadsheet's checksum would be 8 + 4 + 6 = 18.\n",
    "\n",
    "What is the checksum for the spreadsheet in your puzzle input?"
   ]
  },
  {
   "cell_type": "code",
   "execution_count": 17,
   "metadata": {},
   "outputs": [
    {
     "name": "stdout",
     "output_type": "stream",
     "text": [
      "Part 1 result: 36766\n",
      "0 [104, 240, 147, 246, 123, 175, 372, 71, 116, 230, 260, 118, 202, 270, 277, 292]\n",
      "3 4\n",
      "2 [740, 755, 135, 205, 429, 822, 844, 90, 828, 115, 440, 805, 526, 91, 519, 373]\n",
      "11 9\n",
      "9 [1630, 991, 1471, 1294, 52, 1566, 50, 1508, 1367, 1489, 55, 547, 342, 512, 323, 51]\n",
      "7 4\n",
      "38 [1356, 178, 1705, 119, 1609, 1409, 245, 292, 1434, 694, 405, 1692, 247, 193, 1482, 1407]\n",
      "14 12\n",
      "44 [2235, 3321, 3647, 212, 1402, 3711, 3641, 1287, 2725, 692, 1235, 3100, 123, 144, 104, 101]\n",
      "1 12\n",
      "71 [1306, 1224, 1238, 186, 751, 734, 1204, 1275, 366, 149, 1114, 166, 1118, 239, 153, 943]\n",
      "1 14\n",
      "79 [132, 1547, 1564, 512, 2643, 2376, 2324, 2159, 1658, 107, 1604, 145, 2407, 131, 2073, 1878]\n",
      "5 0\n",
      "97 [1845, 91, 1662, 108, 92, 1706, 1815, 1797, 1728, 1150, 1576, 83, 97, 547, 1267, 261]\n",
      "8 3\n",
      "113 [78, 558, 419, 435, 565, 107, 638, 173, 93, 580, 338, 52, 633, 256, 377, 73]\n",
      "1 8\n",
      "119 [1143, 3516, 4205, 3523, 148, 401, 3996, 3588, 300, 1117, 2915, 1649, 135, 134, 182, 267]\n",
      "6 4\n",
      "146 [156, 2760, 1816, 2442, 2985, 990, 2598, 1273, 167, 821, 138, 141, 2761, 2399, 1330, 1276]\n",
      "1 10\n",
      "166 [3746, 3979, 2989, 161, 4554, 156, 3359, 173, 3319, 192, 3707, 264, 762, 2672, 4423, 2924]\n",
      "1 7\n",
      "189 [3098, 4309, 4971, 5439, 131, 171, 5544, 595, 154, 571, 4399, 4294, 160, 6201, 4329, 5244]\n",
      "6 8\n",
      "225 [728, 249, 1728, 305, 2407, 239, 691, 2241, 2545, 1543, 55, 2303, 1020, 753, 193, 1638]\n",
      "7 1\n",
      "234 [260, 352, 190, 877, 118, 77, 1065, 1105, 1085, 1032, 71, 87, 851, 56, 1161, 667]\n",
      "6 10\n",
      "249 [1763, 464, 182, 1932, 1209, 640, 545, 931, 1979, 197, 1774, 174, 2074, 1800, 939, 161]\n",
      "3 15\n",
      "Part 2 result: 261\n"
     ]
    }
   ],
   "source": [
    "#Day 2 -code\n",
    "input = '104\\t240\\t147\\t246\\t123\\t175\\t372\\t71\\t116\\t230\\t260\\t118\\t202\\t270\\t277\\t292\\n740\\t755\\t135\\t205\\t429\\t822\\t844\\t90\\t828\\t115\\t440\\t805\\t526\\t91\\t519\\t373\\n1630\\t991\\t1471\\t1294\\t52\\t1566\\t50\\t1508\\t1367\\t1489\\t55\\t547\\t342\\t512\\t323\\t51\\n1356\\t178\\t1705\\t119\\t1609\\t1409\\t245\\t292\\t1434\\t694\\t405\\t1692\\t247\\t193\\t1482\\t1407\\n2235\\t3321\\t3647\\t212\\t1402\\t3711\\t3641\\t1287\\t2725\\t692\\t1235\\t3100\\t123\\t144\\t104\\t101\\n1306\\t1224\\t1238\\t186\\t751\\t734\\t1204\\t1275\\t366\\t149\\t1114\\t166\\t1118\\t239\\t153\\t943\\n132\\t1547\\t1564\\t512\\t2643\\t2376\\t2324\\t2159\\t1658\\t107\\t1604\\t145\\t2407\\t131\\t2073\\t1878\\n1845\\t91\\t1662\\t108\\t92\\t1706\\t1815\\t1797\\t1728\\t1150\\t1576\\t83\\t97\\t547\\t1267\\t261\\n78\\t558\\t419\\t435\\t565\\t107\\t638\\t173\\t93\\t580\\t338\\t52\\t633\\t256\\t377\\t73\\n1143\\t3516\\t4205\\t3523\\t148\\t401\\t3996\\t3588\\t300\\t1117\\t2915\\t1649\\t135\\t134\\t182\\t267\\n156\\t2760\\t1816\\t2442\\t2985\\t990\\t2598\\t1273\\t167\\t821\\t138\\t141\\t2761\\t2399\\t1330\\t1276\\n3746\\t3979\\t2989\\t161\\t4554\\t156\\t3359\\t173\\t3319\\t192\\t3707\\t264\\t762\\t2672\\t4423\\t2924\\n3098\\t4309\\t4971\\t5439\\t131\\t171\\t5544\\t595\\t154\\t571\\t4399\\t4294\\t160\\t6201\\t4329\\t5244\\n728\\t249\\t1728\\t305\\t2407\\t239\\t691\\t2241\\t2545\\t1543\\t55\\t2303\\t1020\\t753\\t193\\t1638\\n260\\t352\\t190\\t877\\t118\\t77\\t1065\\t1105\\t1085\\t1032\\t71\\t87\\t851\\t56\\t1161\\t667\\n1763\\t464\\t182\\t1932\\t1209\\t640\\t545\\t931\\t1979\\t197\\t1774\\t174\\t2074\\t1800\\t939\\t161'\n",
    "\n",
    "# Part 1\n",
    "m = []\n",
    "for l in input.split('\\n'):\n",
    "    m.append([int(e) for e in l.split('\\t')])\n",
    "\n",
    "sum = 0\n",
    "for r in m:\n",
    "     min=r[0]\n",
    "     max=r[0]\n",
    "     for e in r[1:]:\n",
    "        if e>max:\n",
    "             max = e\n",
    "        if e<min:\n",
    "             min = e\n",
    "\n",
    "     sum += max-min\n",
    "    \n",
    "print (\"Part 1 result: {}\".format(sum))\n",
    "\n",
    "sum = 0\n",
    "for r in m:\n",
    "    print sum, r\n",
    "    for i in range(len(r)-1):\n",
    "        for j in range(len(r)-i-1):\n",
    "            if r[i]%r[j+i+1] == 0:\n",
    "                print i, i+j+1\n",
    "                sum+=r[i]/r[j+i+1]\n",
    "                break\n",
    "            if r[i+j+1]%r[i] == 0:\n",
    "                print i+j+1, i\n",
    "                sum+=r[i+j+1]/r[i]\n",
    "                break\n",
    "\n",
    "print (\"Part 2 result: {}\".format(sum))"
   ]
  },
  {
   "cell_type": "code",
   "execution_count": 4,
   "metadata": {},
   "outputs": [
    {
     "name": "stdout",
     "output_type": "stream",
     "text": [
      "step 557\n",
      "to go 1802\n",
      "path_len 128\n",
      "d= 430\n"
     ]
    }
   ],
   "source": [
    "#Spiral\n",
    "import math\n",
    "step = 1\n",
    "size = 0\n",
    "input = 312051\n",
    "#step = int(math.floor(math.sqrt(input)))\n",
    "while step*step < input:\n",
    "    step += 2\n",
    "\n",
    "step -= 2\n",
    "print \"step\", step\n",
    "print \"to go\", input - step*step\n",
    "\n",
    "path_len = input-step*step\n",
    "while path_len-(step+1) >= 0 :\n",
    "    path_len -= (step+1)\n",
    "\n",
    "print \"path_len\", path_len\n",
    "\n",
    "#calculate manhattan distance\n",
    "d = 0\n",
    "if path_len > (step+1)/2:\n",
    "    d = path_len\n",
    "else:\n",
    "    d = step+1-path_len\n",
    "print \"d=\",d"
   ]
  },
  {
   "cell_type": "code",
   "execution_count": 18,
   "metadata": {},
   "outputs": [
    {
     "name": "stdout",
     "output_type": "stream",
     "text": [
      "[(1, []), (1, [0]), (2, [1, 0]), (4, [2, 0]), (7, [3, 0]), (12, [4, 0]), (20, [5, 0]), (33, [6, 0]), (54, [7, 0]), (88, [8, 0]), (143, [9, 0]), (232, [10, 0]), (376, [11, 0]), (609, [12, 0]), (986, [13, 0])]\n"
     ]
    }
   ],
   "source": [
    "#Spiral\n",
    "m =[(1,[])]\n",
    "\n",
    "def neigh(i):\n",
    "    s = m[i-1][0]\n",
    "    n = [i-1]\n",
    "    first = True\n",
    "    for j in m[i-1][1]:\n",
    "        s += m[j][0]\n",
    "        if first:\n",
    "            n.append(m[i-1][1][-1])\n",
    "            first = False\n",
    "    return (s, n)\n",
    "    \n",
    "\n",
    "for i in range(1,15):\n",
    "    m.append(neigh(i))\n",
    "\n",
    "print m"
   ]
  },
  {
   "cell_type": "code",
   "execution_count": 9,
   "metadata": {},
   "outputs": [
    {
     "name": "stdout",
     "output_type": "stream",
     "text": [
      "\n"
     ]
    }
   ],
   "source": [
    "# day 20 \n",
    "from day20_input import particles"
   ]
  },
  {
   "cell_type": "code",
   "execution_count": 3,
   "metadata": {},
   "outputs": [
    {
     "name": "stdout",
     "output_type": "stream",
     "text": [
      "res= 91 acc vec =  0\n"
     ]
    }
   ],
   "source": [
    "import operator\n",
    "\n",
    "idx, val = min(enumerate([a[0]*a[0]+a[1]*a[1]+a[2]*a[2] for a in [v['a'] for v in particles]]), key=operator.itemgetter(1))\n",
    "\n",
    "print 'res=',idx, 'acc vec = ',val\n"
   ]
  },
  {
   "cell_type": "code",
   "execution_count": 12,
   "metadata": {},
   "outputs": [
    {
     "name": "stdout",
     "output_type": "stream",
     "text": [
      "remaining= 567\n"
     ]
    }
   ],
   "source": [
    "def update_vec(p, a):\n",
    "    return (p[0]+a[0], p[1]+a[1], p[2]+a[2])\n",
    "        \n",
    "def update_pos(parts):\n",
    "    for p in parts:\n",
    "        p['v'] = update_vec(p['v'], p['a'])\n",
    "        p['p'] = update_vec(p['p'], p['v'])\n",
    "        \n",
    "\n",
    "def solve(k):\n",
    "    parts = []\n",
    "    #deep copy k\n",
    "    for p in k:\n",
    "        parts.append(dict(p))\n",
    "    \n",
    "    for j in range(1000): # this is not nice, but works, should instead check if collisions are possible\n",
    "        update_pos(parts)\n",
    "        coll = {}\n",
    "        for i in range(len(parts)):\n",
    "            part = parts[i]\n",
    "            if not part['p'] in coll:\n",
    "                coll[part['p']] = []\n",
    "            coll[part['p']].append(i)\n",
    "            \n",
    "        #print coll\n",
    "        try: \n",
    "            indexes = reduce(lambda a,b: a+b ,[v for v in coll.values() if len(v)>1])\n",
    "            if len(indexes)>0:\n",
    "                #print indexes\n",
    "                i_new = []\n",
    "                for i in range(len(parts)):\n",
    "                    if not i in indexes:\n",
    "                        i_new.append(parts[i])\n",
    "                #print 'rem=',len(i_new)\n",
    "                parts = i_new\n",
    "        except TypeError:\n",
    "            next\n",
    "    return len(parts)\n",
    "\n",
    "print 'remaining=',solve(particles)"
   ]
  },
  {
   "cell_type": "code",
   "execution_count": null,
   "metadata": {
    "collapsed": true
   },
   "outputs": [],
   "source": []
  }
 ],
 "metadata": {
  "kernelspec": {
   "display_name": "Python 2",
   "language": "python",
   "name": "python2"
  },
  "language_info": {
   "codemirror_mode": {
    "name": "ipython",
    "version": 2
   },
   "file_extension": ".py",
   "mimetype": "text/x-python",
   "name": "python",
   "nbconvert_exporter": "python",
   "pygments_lexer": "ipython2",
   "version": "2.7.14"
  }
 },
 "nbformat": 4,
 "nbformat_minor": 2
}
