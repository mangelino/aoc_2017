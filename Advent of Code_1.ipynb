{
 "cells": [
  {
   "cell_type": "code",
   "execution_count": null,
   "metadata": {},
   "outputs": [],
   "source": [
    "#Day 2 -code\n",
    "from day2_input import _input\n",
    "\n",
    "# Part 1\n",
    "m = []\n",
    "for l in _input.split('\\n'):\n",
    "    m.append([int(e) for e in l.split('\\t')])\n",
    "\n",
    "sum = 0\n",
    "for r in m:\n",
    "     min=r[0]\n",
    "     max=r[0]\n",
    "     for e in r[1:]:\n",
    "        if e>max:\n",
    "             max = e\n",
    "        if e<min:\n",
    "             min = e\n",
    "\n",
    "     sum += max-min\n",
    "    \n",
    "print (\"Part 1 result: {}\".format(sum))\n",
    "\n",
    "sum = 0\n",
    "for r in m:\n",
    "    print sum, r\n",
    "    for i in range(len(r)-1):\n",
    "        for j in range(len(r)-i-1):\n",
    "            if r[i]%r[j+i+1] == 0:\n",
    "                print i, i+j+1\n",
    "                sum+=r[i]/r[j+i+1]\n",
    "                break\n",
    "            if r[i+j+1]%r[i] == 0:\n",
    "                print i+j+1, i\n",
    "                sum+=r[i+j+1]/r[i]\n",
    "                break\n",
    "\n",
    "print (\"Part 2 result: {}\".format(sum))"
   ]
  },
  {
   "cell_type": "code",
   "execution_count": null,
   "metadata": {},
   "outputs": [],
   "source": [
    "#Spiral\n",
    "import math\n",
    "step = 1\n",
    "size = 0\n",
    "input = 312051\n",
    "#step = int(math.floor(math.sqrt(input)))\n",
    "while step*step < input:\n",
    "    step += 2\n",
    "\n",
    "step -= 2\n",
    "print \"step\", step\n",
    "print \"to go\", input - step*step\n",
    "\n",
    "path_len = input-step*step\n",
    "while path_len-(step+1) >= 0 :\n",
    "    path_len -= (step+1)\n",
    "\n",
    "print \"path_len\", path_len\n",
    "\n",
    "#calculate manhattan distance\n",
    "d = 0\n",
    "if path_len > (step+1)/2:\n",
    "    d = path_len\n",
    "else:\n",
    "    d = step+1-path_len\n",
    "print \"d=\",d"
   ]
  },
  {
   "cell_type": "code",
   "execution_count": null,
   "metadata": {},
   "outputs": [],
   "source": [
    "#Spiral\n",
    "m =[(1,[])]\n",
    "\n",
    "def neigh(i):\n",
    "    s = m[i-1][0]\n",
    "    n = [i-1]\n",
    "    first = True\n",
    "    for j in m[i-1][1]:\n",
    "        s += m[j][0]\n",
    "        if first:\n",
    "            n.append(m[i-1][1][-1])\n",
    "            first = False\n",
    "    return (s, n)\n",
    "    \n",
    "\n",
    "for i in range(1,15):\n",
    "    m.append(neigh(i))\n",
    "\n",
    "print m"
   ]
  },
  {
   "cell_type": "code",
   "execution_count": 4,
   "metadata": {},
   "outputs": [
    {
     "name": "stdout",
     "output_type": "stream",
     "text": [
      "i= 2 r= 1 s= 0 p= 1 coeff= 2 [1, 0] m= [1, 1]\n",
      "v= 2\n",
      "i= 3 r= 1 s= 1 p= 0 coeff= 3 [2, 1, 0] m= [1, 1, 2]\n",
      "v= 4\n",
      "i= 4 r= 1 s= 1 p= 1 coeff= 4 [3, 0] m= [1, 1, 2, 4]\n",
      "v= 5\n",
      "i= 5 r= 1 s= 2 p= 0 coeff= 5 [4, 3, 0] m= [1, 1, 2, 4, 5]\n",
      "v= 10\n",
      "i= 6 r= 1 s= 2 p= 1 coeff= 6 [5, 0] m= [1, 1, 2, 4, 5, 10]\n",
      "v= 11\n",
      "i= 7 r= 1 s= 3 p= 0 coeff= 7 [6, 5, 1, 0] m= [1, 1, 2, 4, 5, 10, 11]\n",
      "v= 23\n",
      "i= 8 r= 1 s= 3 p= 1 coeff= 8 [7, 0, 1] m= [1, 1, 2, 4, 5, 10, 11, 23]\n",
      "v= 25\n",
      "i= 9 r= 3 s= 0 p= 0 coeff= 8 [8, 1] m= [1, 1, 2, 4, 5, 10, 11, 23, 25]\n",
      "v= 26\n",
      "i= 10 r= 3 s= 0 p= 1 coeff= 9 [9, 8, 1, 2] m= [1, 1, 2, 4, 5, 10, 11, 23, 25, 26]\n",
      "v= 54\n",
      "i= 11 r= 3 s= 0 p= 2 coeff= 9 [10, 2, 1] m= [1, 1, 2, 4, 5, 10, 11, 23, 25, 26, 54]\n",
      "v= 57\n",
      "i= 12 r= 3 s= 0 p= 3 coeff= 10 [11, 2] m= [1, 1, 2, 4, 5, 10, 11, 23, 25, 26, 54, 57]\n",
      "v= 59\n",
      "i= 13 r= 3 s= 1 p= 0 coeff= 11 [12, 11, 3, 2] m= [1, 1, 2, 4, 5, 10, 11, 23, 25, 26, 54, 57, 59]\n",
      "v= 122\n",
      "i= 14 r= 3 s= 1 p= 1 coeff= 11 [13, 2, 3, 4] m= [1, 1, 2, 4, 5, 10, 11, 23, 25, 26, 54, 57, 59, 122]\n",
      "v= 133\n",
      "i= 15 r= 3 s= 1 p= 2 coeff= 11 [14, 4, 3] m= [1, 1, 2, 4, 5, 10, 11, 23, 25, 26, 54, 57, 59, 122, 133]\n",
      "v= 142\n",
      "i= 16 r= 3 s= 1 p= 3 coeff= 12 [15, 4] m= [1, 1, 2, 4, 5, 10, 11, 23, 25, 26, 54, 57, 59, 122, 133, 142]\n",
      "v= 147\n",
      "i= 17 r= 3 s= 2 p= 0 coeff= 13 [16, 15, 5, 4] m= [1, 1, 2, 4, 5, 10, 11, 23, 25, 26, 54, 57, 59, 122, 133, 142, 147]\n",
      "v= 304\n",
      "i= 18 r= 3 s= 2 p= 1 coeff= 13 [17, 4, 5, 6] m= [1, 1, 2, 4, 5, 10, 11, 23, 25, 26, 54, 57, 59, 122, 133, 142, 147, 304]\n",
      "v= 330\n",
      "i= 19 r= 3 s= 2 p= 2 coeff= 13 [18, 6, 5] m= [1, 1, 2, 4, 5, 10, 11, 23, 25, 26, 54, 57, 59, 122, 133, 142, 147, 304, 330]\n",
      "v= 351\n",
      "i= 20 r= 3 s= 2 p= 3 coeff= 14 [19, 6] m= [1, 1, 2, 4, 5, 10, 11, 23, 25, 26, 54, 57, 59, 122, 133, 142, 147, 304, 330, 351]\n",
      "v= 362\n",
      "i= 21 r= 3 s= 3 p= 0 coeff= 15 [20, 19, 7, 6] m= [1, 1, 2, 4, 5, 10, 11, 23, 25, 26, 54, 57, 59, 122, 133, 142, 147, 304, 330, 351, 362]\n",
      "v= 747\n",
      "i= 22 r= 3 s= 3 p= 1 coeff= 15 [21, 6, 7, 8] m= [1, 1, 2, 4, 5, 10, 11, 23, 25, 26, 54, 57, 59, 122, 133, 142, 147, 304, 330, 351, 362, 747]\n",
      "v= 806\n",
      "i= 23 r= 3 s= 3 p= 2 coeff= 15 [22, 8, 7, 9] m= [1, 1, 2, 4, 5, 10, 11, 23, 25, 26, 54, 57, 59, 122, 133, 142, 147, 304, 330, 351, 362, 747, 806]\n",
      "v= 880\n",
      "i= 24 r= 3 s= 3 p= 3 coeff= 16 [23, 8, 9] m= [1, 1, 2, 4, 5, 10, 11, 23, 25, 26, 54, 57, 59, 122, 133, 142, 147, 304, 330, 351, 362, 747, 806, 880]\n",
      "v= 931\n",
      "i= 25 r= 5 s= 0 p= 0 coeff= 16 [24, 9] m= [1, 1, 2, 4, 5, 10, 11, 23, 25, 26, 54, 57, 59, 122, 133, 142, 147, 304, 330, 351, 362, 747, 806, 880, 931]\n",
      "v= 957\n",
      "i= 26 r= 5 s= 0 p= 1 coeff= 17 [25, 24, 9, 10] m= [1, 1, 2, 4, 5, 10, 11, 23, 25, 26, 54, 57, 59, 122, 133, 142, 147, 304, 330, 351, 362, 747, 806, 880, 931, 957]\n",
      "v= 1968\n",
      "i= 27 r= 5 s= 0 p= 2 coeff= 17 [26, 9, 10, 11] m= [1, 1, 2, 4, 5, 10, 11, 23, 25, 26, 54, 57, 59, 122, 133, 142, 147, 304, 330, 351, 362, 747, 806, 880, 931, 957, 1968]\n",
      "v= 2105\n",
      "i= 28 r= 5 s= 0 p= 3 coeff= 17 [27, 10, 11, 12] m= [1, 1, 2, 4, 5, 10, 11, 23, 25, 26, 54, 57, 59, 122, 133, 142, 147, 304, 330, 351, 362, 747, 806, 880, 931, 957, 1968, 2105]\n",
      "v= 2275\n",
      "i= 29 r= 5 s= 0 p= 4 coeff= 17 [28, 12, 11] m= [1, 1, 2, 4, 5, 10, 11, 23, 25, 26, 54, 57, 59, 122, 133, 142, 147, 304, 330, 351, 362, 747, 806, 880, 931, 957, 1968, 2105, 2275]\n",
      "v= 2391\n",
      "i= 30 r= 5 s= 0 p= 5 coeff= 18 [29, 12] m= [1, 1, 2, 4, 5, 10, 11, 23, 25, 26, 54, 57, 59, 122, 133, 142, 147, 304, 330, 351, 362, 747, 806, 880, 931, 957, 1968, 2105, 2275, 2391]\n",
      "v= 2450\n",
      "i= 31 r= 5 s= 1 p= 0 coeff= 19 [30, 29, 13, 12] m= [1, 1, 2, 4, 5, 10, 11, 23, 25, 26, 54, 57, 59, 122, 133, 142, 147, 304, 330, 351, 362, 747, 806, 880, 931, 957, 1968, 2105, 2275, 2391, 2450]\n",
      "v= 5022\n",
      "i= 32 r= 5 s= 1 p= 1 coeff= 19 [31, 12, 13, 14] m= [1, 1, 2, 4, 5, 10, 11, 23, 25, 26, 54, 57, 59, 122, 133, 142, 147, 304, 330, 351, 362, 747, 806, 880, 931, 957, 1968, 2105, 2275, 2391, 2450, 5022]\n",
      "v= 5336\n",
      "i= 33 r= 5 s= 1 p= 2 coeff= 19 [32, 13, 14, 15] m= [1, 1, 2, 4, 5, 10, 11, 23, 25, 26, 54, 57, 59, 122, 133, 142, 147, 304, 330, 351, 362, 747, 806, 880, 931, 957, 1968, 2105, 2275, 2391, 2450, 5022, 5336]\n",
      "v= 5733\n",
      "i= 34 r= 5 s= 1 p= 3 coeff= 19 [33, 14, 15, 16] m= [1, 1, 2, 4, 5, 10, 11, 23, 25, 26, 54, 57, 59, 122, 133, 142, 147, 304, 330, 351, 362, 747, 806, 880, 931, 957, 1968, 2105, 2275, 2391, 2450, 5022, 5336, 5733]\n",
      "v= 6155\n",
      "i= 35 r= 5 s= 1 p= 4 coeff= 19 [34, 16, 15] m= [1, 1, 2, 4, 5, 10, 11, 23, 25, 26, 54, 57, 59, 122, 133, 142, 147, 304, 330, 351, 362, 747, 806, 880, 931, 957, 1968, 2105, 2275, 2391, 2450, 5022, 5336, 5733, 6155]\n",
      "v= 6444\n",
      "i= 36 r= 5 s= 1 p= 5 coeff= 20 [35, 16] m= [1, 1, 2, 4, 5, 10, 11, 23, 25, 26, 54, 57, 59, 122, 133, 142, 147, 304, 330, 351, 362, 747, 806, 880, 931, 957, 1968, 2105, 2275, 2391, 2450, 5022, 5336, 5733, 6155, 6444]\n",
      "v= 6591\n",
      "i= 37 r= 5 s= 2 p= 0 coeff= 21 [36, 35, 17, 16] m= [1, 1, 2, 4, 5, 10, 11, 23, 25, 26, 54, 57, 59, 122, 133, 142, 147, 304, 330, 351, 362, 747, 806, 880, 931, 957, 1968, 2105, 2275, 2391, 2450, 5022, 5336, 5733, 6155, 6444, 6591]\n",
      "v= 13486\n",
      "i= 38 r= 5 s= 2 p= 1 coeff= 21 [37, 16, 17, 18] m= [1, 1, 2, 4, 5, 10, 11, 23, 25, 26, 54, 57, 59, 122, 133, 142, 147, 304, 330, 351, 362, 747, 806, 880, 931, 957, 1968, 2105, 2275, 2391, 2450, 5022, 5336, 5733, 6155, 6444, 6591, 13486]\n",
      "v= 14267\n",
      "i= 39 r= 5 s= 2 p= 2 coeff= 21 [38, 17, 18, 19] m= [1, 1, 2, 4, 5, 10, 11, 23, 25, 26, 54, 57, 59, 122, 133, 142, 147, 304, 330, 351, 362, 747, 806, 880, 931, 957, 1968, 2105, 2275, 2391, 2450, 5022, 5336, 5733, 6155, 6444, 6591, 13486, 14267]\n",
      "v= 15252\n",
      "i= 40 r= 5 s= 2 p= 3 coeff= 21 [39, 18, 19, 20] m= [1, 1, 2, 4, 5, 10, 11, 23, 25, 26, 54, 57, 59, 122, 133, 142, 147, 304, 330, 351, 362, 747, 806, 880, 931, 957, 1968, 2105, 2275, 2391, 2450, 5022, 5336, 5733, 6155, 6444, 6591, 13486, 14267, 15252]\n",
      "v= 16295\n",
      "i= 41 r= 5 s= 2 p= 4 coeff= 21 [40, 20, 19] m= [1, 1, 2, 4, 5, 10, 11, 23, 25, 26, 54, 57, 59, 122, 133, 142, 147, 304, 330, 351, 362, 747, 806, 880, 931, 957, 1968, 2105, 2275, 2391, 2450, 5022, 5336, 5733, 6155, 6444, 6591, 13486, 14267, 15252, 16295]\n",
      "v= 17008\n",
      "i= 42 r= 5 s= 2 p= 5 coeff= 22 [41, 20] m= [1, 1, 2, 4, 5, 10, 11, 23, 25, 26, 54, 57, 59, 122, 133, 142, 147, 304, 330, 351, 362, 747, 806, 880, 931, 957, 1968, 2105, 2275, 2391, 2450, 5022, 5336, 5733, 6155, 6444, 6591, 13486, 14267, 15252, 16295, 17008]\n",
      "v= 17370\n",
      "i= 43 r= 5 s= 3 p= 0 coeff= 23 [42, 41, 21, 20] m= [1, 1, 2, 4, 5, 10, 11, 23, 25, 26, 54, 57, 59, 122, 133, 142, 147, 304, 330, 351, 362, 747, 806, 880, 931, 957, 1968, 2105, 2275, 2391, 2450, 5022, 5336, 5733, 6155, 6444, 6591, 13486, 14267, 15252, 16295, 17008, 17370]\n",
      "v= 35487\n",
      "i= 44 r= 5 s= 3 p= 1 coeff= 23 [43, 20, 21, 22] m= [1, 1, 2, 4, 5, 10, 11, 23, 25, 26, 54, 57, 59, 122, 133, 142, 147, 304, 330, 351, 362, 747, 806, 880, 931, 957, 1968, 2105, 2275, 2391, 2450, 5022, 5336, 5733, 6155, 6444, 6591, 13486, 14267, 15252, 16295, 17008, 17370, 35487]\n",
      "v= 37402\n",
      "i= 45 r= 5 s= 3 p= 2 coeff= 23 [44, 21, 22, 23] m= [1, 1, 2, 4, 5, 10, 11, 23, 25, 26, 54, 57, 59, 122, 133, 142, 147, 304, 330, 351, 362, 747, 806, 880, 931, 957, 1968, 2105, 2275, 2391, 2450, 5022, 5336, 5733, 6155, 6444, 6591, 13486, 14267, 15252, 16295, 17008, 17370, 35487, 37402]\n",
      "v= 39835\n",
      "i= 46 r= 5 s= 3 p= 3 coeff= 23 [45, 22, 23, 24] m= [1, 1, 2, 4, 5, 10, 11, 23, 25, 26, 54, 57, 59, 122, 133, 142, 147, 304, 330, 351, 362, 747, 806, 880, 931, 957, 1968, 2105, 2275, 2391, 2450, 5022, 5336, 5733, 6155, 6444, 6591, 13486, 14267, 15252, 16295, 17008, 17370, 35487, 37402, 39835]\n",
      "v= 42452\n",
      "i= 47 r= 5 s= 3 p= 4 coeff= 23 [46, 24, 23, 25] m= [1, 1, 2, 4, 5, 10, 11, 23, 25, 26, 54, 57, 59, 122, 133, 142, 147, 304, 330, 351, 362, 747, 806, 880, 931, 957, 1968, 2105, 2275, 2391, 2450, 5022, 5336, 5733, 6155, 6444, 6591, 13486, 14267, 15252, 16295, 17008, 17370, 35487, 37402, 39835, 42452]\n",
      "v= 45220\n",
      "i= 48 r= 5 s= 3 p= 5 coeff= 24 [47, 24, 25] m= [1, 1, 2, 4, 5, 10, 11, 23, 25, 26, 54, 57, 59, 122, 133, 142, 147, 304, 330, 351, 362, 747, 806, 880, 931, 957, 1968, 2105, 2275, 2391, 2450, 5022, 5336, 5733, 6155, 6444, 6591, 13486, 14267, 15252, 16295, 17008, 17370, 35487, 37402, 39835, 42452, 45220]\n",
      "v= 47108\n",
      "i= 49 r= 7 s= 0 p= 0 coeff= 24 [48, 25] m= [1, 1, 2, 4, 5, 10, 11, 23, 25, 26, 54, 57, 59, 122, 133, 142, 147, 304, 330, 351, 362, 747, 806, 880, 931, 957, 1968, 2105, 2275, 2391, 2450, 5022, 5336, 5733, 6155, 6444, 6591, 13486, 14267, 15252, 16295, 17008, 17370, 35487, 37402, 39835, 42452, 45220, 47108]\n",
      "v= 48065\n",
      "i= 50 r= 7 s= 0 p= 1 coeff= 25 [49, 48, 25, 26] m= [1, 1, 2, 4, 5, 10, 11, 23, 25, 26, 54, 57, 59, 122, 133, 142, 147, 304, 330, 351, 362, 747, 806, 880, 931, 957, 1968, 2105, 2275, 2391, 2450, 5022, 5336, 5733, 6155, 6444, 6591, 13486, 14267, 15252, 16295, 17008, 17370, 35487, 37402, 39835, 42452, 45220, 47108, 48065]\n",
      "v= 98098\n",
      "i= 51 r= 7 s= 0 p= 2 coeff= 25 [50, 25, 26, 27] m= [1, 1, 2, 4, 5, 10, 11, 23, 25, 26, 54, 57, 59, 122, 133, 142, 147, 304, 330, 351, 362, 747, 806, 880, 931, 957, 1968, 2105, 2275, 2391, 2450, 5022, 5336, 5733, 6155, 6444, 6591, 13486, 14267, 15252, 16295, 17008, 17370, 35487, 37402, 39835, 42452, 45220, 47108, 48065, 98098]\n",
      "v= 103128\n",
      "i= 52 r= 7 s= 0 p= 3 coeff= 25 [51, 26, 27, 28] m= [1, 1, 2, 4, 5, 10, 11, 23, 25, 26, 54, 57, 59, 122, 133, 142, 147, 304, 330, 351, 362, 747, 806, 880, 931, 957, 1968, 2105, 2275, 2391, 2450, 5022, 5336, 5733, 6155, 6444, 6591, 13486, 14267, 15252, 16295, 17008, 17370, 35487, 37402, 39835, 42452, 45220, 47108, 48065, 98098, 103128]\n",
      "v= 109476\n",
      "i= 53 r= 7 s= 0 p= 4 coeff= 25 [52, 27, 28, 29] m= [1, 1, 2, 4, 5, 10, 11, 23, 25, 26, 54, 57, 59, 122, 133, 142, 147, 304, 330, 351, 362, 747, 806, 880, 931, 957, 1968, 2105, 2275, 2391, 2450, 5022, 5336, 5733, 6155, 6444, 6591, 13486, 14267, 15252, 16295, 17008, 17370, 35487, 37402, 39835, 42452, 45220, 47108, 48065, 98098, 103128, 109476]\n",
      "v= 116247\n",
      "i= 54 r= 7 s= 0 p= 5 coeff= 25 [53, 28, 29, 30] m= [1, 1, 2, 4, 5, 10, 11, 23, 25, 26, 54, 57, 59, 122, 133, 142, 147, 304, 330, 351, 362, 747, 806, 880, 931, 957, 1968, 2105, 2275, 2391, 2450, 5022, 5336, 5733, 6155, 6444, 6591, 13486, 14267, 15252, 16295, 17008, 17370, 35487, 37402, 39835, 42452, 45220, 47108, 48065, 98098, 103128, 109476, 116247]\n",
      "v= 123363\n",
      "i= 55 r= 7 s= 0 p= 6 coeff= 25 [54, 30, 29] m= [1, 1, 2, 4, 5, 10, 11, 23, 25, 26, 54, 57, 59, 122, 133, 142, 147, 304, 330, 351, 362, 747, 806, 880, 931, 957, 1968, 2105, 2275, 2391, 2450, 5022, 5336, 5733, 6155, 6444, 6591, 13486, 14267, 15252, 16295, 17008, 17370, 35487, 37402, 39835, 42452, 45220, 47108, 48065, 98098, 103128, 109476, 116247, 123363]\n",
      "v= 128204\n",
      "i= 56 r= 7 s= 0 p= 7 coeff= 26 [55, 30] m= [1, 1, 2, 4, 5, 10, 11, 23, 25, 26, 54, 57, 59, 122, 133, 142, 147, 304, 330, 351, 362, 747, 806, 880, 931, 957, 1968, 2105, 2275, 2391, 2450, 5022, 5336, 5733, 6155, 6444, 6591, 13486, 14267, 15252, 16295, 17008, 17370, 35487, 37402, 39835, 42452, 45220, 47108, 48065, 98098, 103128, 109476, 116247, 123363, 128204]\n",
      "v= 130654\n",
      "i= 57 r= 7 s= 1 p= 0 coeff= 27 [56, 55, 31, 30] m= [1, 1, 2, 4, 5, 10, 11, 23, 25, 26, 54, 57, 59, 122, 133, 142, 147, 304, 330, 351, 362, 747, 806, 880, 931, 957, 1968, 2105, 2275, 2391, 2450, 5022, 5336, 5733, 6155, 6444, 6591, 13486, 14267, 15252, 16295, 17008, 17370, 35487, 37402, 39835, 42452, 45220, 47108, 48065, 98098, 103128, 109476, 116247, 123363, 128204, 130654]\n",
      "v= 266330\n",
      "i= 58 r= 7 s= 1 p= 1 coeff= 27 [57, 30, 31, 32] m= [1, 1, 2, 4, 5, 10, 11, 23, 25, 26, 54, 57, 59, 122, 133, 142, 147, 304, 330, 351, 362, 747, 806, 880, 931, 957, 1968, 2105, 2275, 2391, 2450, 5022, 5336, 5733, 6155, 6444, 6591, 13486, 14267, 15252, 16295, 17008, 17370, 35487, 37402, 39835, 42452, 45220, 47108, 48065, 98098, 103128, 109476, 116247, 123363, 128204, 130654, 266330]\n",
      "v= 279138\n",
      "i= 59 r= 7 s= 1 p= 2 coeff= 27 [58, 31, 32, 33] m= [1, 1, 2, 4, 5, 10, 11, 23, 25, 26, 54, 57, 59, 122, 133, 142, 147, 304, 330, 351, 362, 747, 806, 880, 931, 957, 1968, 2105, 2275, 2391, 2450, 5022, 5336, 5733, 6155, 6444, 6591, 13486, 14267, 15252, 16295, 17008, 17370, 35487, 37402, 39835, 42452, 45220, 47108, 48065, 98098, 103128, 109476, 116247, 123363, 128204, 130654, 266330, 279138]\n",
      "v= 295229\n",
      "i= 60 r= 7 s= 1 p= 3 coeff= 27 [59, 32, 33, 34] m= [1, 1, 2, 4, 5, 10, 11, 23, 25, 26, 54, 57, 59, 122, 133, 142, 147, 304, 330, 351, 362, 747, 806, 880, 931, 957, 1968, 2105, 2275, 2391, 2450, 5022, 5336, 5733, 6155, 6444, 6591, 13486, 14267, 15252, 16295, 17008, 17370, 35487, 37402, 39835, 42452, 45220, 47108, 48065, 98098, 103128, 109476, 116247, 123363, 128204, 130654, 266330, 279138, 295229]\n",
      "v= 312453\n"
     ]
    }
   ],
   "source": [
    "#day 3 pb 2\n",
    "\n",
    "input = 312051\n",
    "import math\n",
    "def radius(i):\n",
    "    j = 1\n",
    "    while (j+2)*(j+2)<=i:\n",
    "        j += 2\n",
    "    return j\n",
    "\n",
    "def check(m, i):\n",
    "    r = radius(i)\n",
    "    print \"i=\", i,\"r=\", r,\n",
    "    l = r+1\n",
    "    side = (i-r*r)/l\n",
    "    pos = (i-r*r)%l\n",
    "    print \"s=\",side,\"p=\", pos,\n",
    "    coeff= 8*(r/2)+(side*2)+1\n",
    "    if pos == r:\n",
    "        coeff += 1\n",
    "    if pos == 0 and side == 0:\n",
    "        coeff -= 1\n",
    "    print \"coeff=\", coeff,\n",
    "    # all are adjacent to the previous slot\n",
    "    adj = [i-1]\n",
    "    if pos==r: # Corner\n",
    "        adj.append(i-coeff)\n",
    "        if side==3: # the bottom-right corner has one more adjacent slot\n",
    "            adj.append(i-coeff+1)\n",
    "    if pos==0:\n",
    "        if side != 0: # if this is not the first slot of a new spiral circle\n",
    "            adj.append(i-2) \n",
    "            if side == 3 or r>1:\n",
    "                adj.append(i-coeff+1)\n",
    "        adj.append(i-coeff)\n",
    "    # these last two are only valid for the 2 circle onward\n",
    "    if pos>=1 and pos<r-1 and r > 1:\n",
    "        if side == 0 and pos==1:\n",
    "            adj.append(i-2)\n",
    "        else:\n",
    "            adj.append(i-coeff-1)\n",
    "        adj.append(i-coeff)\n",
    "        adj.append(i-coeff+1)\n",
    "    if pos==r-1 and r>1:\n",
    "        adj.append(i-coeff)\n",
    "        adj.append(i-coeff-1)\n",
    "        if side == 3:\n",
    "            adj.append(i-coeff+1)\n",
    "    print adj, \"m=\", m\n",
    "    \n",
    "    sum = 0\n",
    "    \n",
    "    for j in adj:\n",
    "        sum += m[j]\n",
    "    return sum\n",
    "\n",
    "m = []\n",
    "i = 0\n",
    "m.append(1)\n",
    "i += 1\n",
    "m.append(m[i-1])\n",
    "i += 1\n",
    "k = 2\n",
    "v = 0\n",
    "while v < input:\n",
    "    v = check(m,k)\n",
    "    print \"v=\", v\n",
    "    k = k+1\n",
    "    m.append(v)\n",
    "\n"
   ]
  },
  {
   "cell_type": "code",
   "execution_count": 6,
   "metadata": {},
   "outputs": [],
   "source": [
    "#Day 4 part 1\n",
    "from day4_input import _input"
   ]
  },
  {
   "cell_type": "code",
   "execution_count": 8,
   "metadata": {},
   "outputs": [
    {
     "name": "stdout",
     "output_type": "stream",
     "text": [
      "c= 477\n"
     ]
    }
   ],
   "source": [
    "def isValid(f):\n",
    "    m = {}\n",
    "    for p in f.split(\" \"):\n",
    "        if p in m:\n",
    "            return 0\n",
    "        else: \n",
    "            m[p]=1\n",
    "    return 1\n",
    "\n",
    "c=0\n",
    "for phrase in _input:\n",
    "    c += isValid(phrase)\n",
    "\n",
    "print \"c=\", c"
   ]
  },
  {
   "cell_type": "code",
   "execution_count": 20,
   "metadata": {},
   "outputs": [
    {
     "name": "stdout",
     "output_type": "stream",
     "text": [
      "c= 167\n"
     ]
    }
   ],
   "source": [
    "# Part 2\n",
    "def isValid2(f):\n",
    "    m = {}\n",
    "    for p in f.split(\" \"):\n",
    "        sp = ''.join(sorted(p))\n",
    "        if sp in m:\n",
    "            return 0\n",
    "        else: \n",
    "            m[sp]=1\n",
    "    return 1\n",
    "\n",
    "c=0\n",
    "for phrase in input:\n",
    "    c += isValid2(phrase)\n",
    "\n",
    "print \"c=\", c"
   ]
  },
  {
   "cell_type": "code",
   "execution_count": 4,
   "metadata": {},
   "outputs": [
    {
     "name": "stdout",
     "output_type": "stream",
     "text": [
      "394829\n"
     ]
    }
   ],
   "source": [
    "# Day 5 part 1\n",
    "from day5_input import _input\n",
    "\n",
    "def checkMazeNR(maze):\n",
    "    pos = 0\n",
    "    steps = 1\n",
    "    s = maze[pos]\n",
    "    while s+pos < len(maze):\n",
    "        maze[pos] += 1\n",
    "        pos = s+pos\n",
    "        steps += 1\n",
    "        s = maze[pos]\n",
    "    return steps\n",
    "    \n",
    "print checkMazeNR(_input)\n",
    "    "
   ]
  },
  {
   "cell_type": "code",
   "execution_count": 13,
   "metadata": {},
   "outputs": [
    {
     "name": "stdout",
     "output_type": "stream",
     "text": [
      "31150702\n"
     ]
    }
   ],
   "source": [
    "# day 5 part 2\n",
    "from day5_input import _input\n",
    "\n",
    "def checkMazeNR(maze):\n",
    "    pos = 0\n",
    "    steps = 1\n",
    "    s = maze[pos]\n",
    "    while s+pos < len(maze):\n",
    "        if s>=3:\n",
    "            maze[pos] -= 1\n",
    "        else:\n",
    "            maze[pos] += 1\n",
    "        pos = s+pos\n",
    "        steps += 1\n",
    "        s = maze[pos]\n",
    "    return steps\n",
    "    \n",
    "print checkMazeNR(_input)"
   ]
  },
  {
   "cell_type": "code",
   "execution_count": 12,
   "metadata": {},
   "outputs": [
    {
     "name": "stdout",
     "output_type": "stream",
     "text": [
      "Steps= 4074\n"
     ]
    }
   ],
   "source": [
    "#day 6 part 1\n",
    "import operator\n",
    "\n",
    "_input = [11,11,13,7,0,15,5,5,4,4,1,1,7,1,15,11]\n",
    "\n",
    "def redistribute(banks):\n",
    "    seen = []\n",
    "    seen.append('-'.join([str(x) for x in banks]))\n",
    "    steps = 1\n",
    "    while True:    \n",
    "        index, value = max(enumerate(banks), key=operator.itemgetter(1))\n",
    "        banks[index] = 0\n",
    "        index += 1\n",
    "        while value > 0:\n",
    "            banks[index%len(banks)] += 1\n",
    "            index += 1\n",
    "            value -= 1\n",
    "        bs = '-'.join([str(x) for x in banks])\n",
    "        if bs in seen:\n",
    "            return steps\n",
    "        seen.append(bs)\n",
    "        steps += 1\n",
    "\n",
    "print \"Steps=\", redistribute(_input)"
   ]
  },
  {
   "cell_type": "code",
   "execution_count": 13,
   "metadata": {},
   "outputs": [
    {
     "name": "stdout",
     "output_type": "stream",
     "text": [
      "Cycle= 2793\n"
     ]
    }
   ],
   "source": [
    "#day 6 part 2\n",
    "import operator\n",
    "\n",
    "_input = [11,11,13,7,0,15,5,5,4,4,1,1,7,1,15,11]\n",
    "\n",
    "def redistribute(banks):\n",
    "    seen = {}\n",
    "    seen['-'.join([str(x) for x in banks])] = 0\n",
    "    steps = 1\n",
    "    while True:    \n",
    "        index, value = max(enumerate(banks), key=operator.itemgetter(1))\n",
    "        banks[index] = 0\n",
    "        index += 1\n",
    "        while value > 0:\n",
    "            banks[index%len(banks)] += 1\n",
    "            index += 1\n",
    "            value -= 1\n",
    "        bs = '-'.join([str(x) for x in banks])\n",
    "        if bs in seen:\n",
    "            return steps-seen[bs]\n",
    "        seen[bs] = steps\n",
    "        steps += 1\n",
    "\n",
    "print \"Cycle=\", redistribute(_input)"
   ]
  },
  {
   "cell_type": "code",
   "execution_count": 2,
   "metadata": {},
   "outputs": [],
   "source": [
    "# day 7 part 1\n",
    "from day7_input import _input"
   ]
  },
  {
   "cell_type": "code",
   "execution_count": 3,
   "metadata": {},
   "outputs": [
    {
     "name": "stdout",
     "output_type": "stream",
     "text": [
      "Solution: gmcrj\n"
     ]
    }
   ],
   "source": [
    "def parseLine(l):\n",
    "    el = [x.strip() for x in l.split('->')]\n",
    "    b = el[0].split(' ')\n",
    "    name = b[0]\n",
    "    w = b[1][1:-1]\n",
    "    childs = []\n",
    "    if len(el) == 2:\n",
    "        childs = el[1].split(', ')\n",
    "    return name,w,childs\n",
    "        \n",
    "\n",
    "def parse(struct):\n",
    "    ref = {}\n",
    "    tower = {}\n",
    "    for l in struct:\n",
    "        name, weight, children = parseLine(l)\n",
    "        tower[name] = (weight, children)\n",
    "        #print name, weight, children\n",
    "        if not name in ref:\n",
    "            ref[name] = []\n",
    "        for c in children:\n",
    "            if not c in ref:\n",
    "                ref[c] = []\n",
    "            ref[c].append(name)\n",
    "\n",
    "    for n, r in ref.iteritems():\n",
    "        if len(r) == 0:\n",
    "            return n, tower\n",
    "        \n",
    "n, tower = parse(_input)\n",
    "print 'Solution:', n"
   ]
  },
  {
   "cell_type": "code",
   "execution_count": 7,
   "metadata": {},
   "outputs": [
    {
     "name": "stdout",
     "output_type": "stream",
     "text": [
      "Error weight 2744 11651 -gejdtfw-fbtzaic [(913, '-gejdtfw-fbtzaic-nzkxl'), (918, '-gejdtfw-fbtzaic-mdbtyw'), (913, '-gejdtfw-fbtzaic-dqwfuzn')]\n",
      "Error weight 71955 65882 -gejdtfw [(14390, '-gejdtfw-yeoia'), (14395, '-gejdtfw-fbtzaic'), (14390, '-gejdtfw-tbmtw'), (14390, '-gejdtfw-rutvyr'), (14390, '-gejdtfw-tucqq')]\n",
      "Error weight 551333 69  [(137832, '-polkn'), (137837, '-gejdtfw'), (137832, '-cfuudsk'), (137832, '-fqoary')]\n"
     ]
    },
    {
     "data": {
      "text/plain": [
       "(551402, '')"
      ]
     },
     "execution_count": 7,
     "metadata": {},
     "output_type": "execute_result"
    }
   ],
   "source": [
    "#day 7 part 2 - print the disc with wrong child weight\n",
    "def crawlTower(tower, node, seq):\n",
    "    w = []\n",
    "    for d in tower[node][1]:\n",
    "        w.append(crawlTower(tower, d, seq+'-'+d))\n",
    "    if len(w) == 0:\n",
    "        return (int(tower[node][0]), seq)\n",
    "    else:\n",
    "        #print w\n",
    "        a = 0\n",
    "        for y in w:\n",
    "            a+=y[0]\n",
    "        if a/len(w) != w[0][0]:\n",
    "            print \"Error weight\", a, tower[node][0], seq, w\n",
    "        return (int(tower[node][0])+a, seq)\n",
    "        \n",
    "crawlTower(tower, n, '')"
   ]
  },
  {
   "cell_type": "code",
   "execution_count": 2,
   "metadata": {},
   "outputs": [
    {
     "name": "stdout",
     "output_type": "stream",
     "text": [
      "4644\n"
     ]
    }
   ],
   "source": [
    "#day 8 part 1\n",
    "from day8_input import _input\n",
    "\n",
    "program = []\n",
    "registers = {}\n",
    "\n",
    "cond = {\n",
    "    '>': lambda a,b: a>b,\n",
    "    '<': lambda a,b: a<b,\n",
    "    '>=': lambda a,b: a>=b,\n",
    "    '<=': lambda a,b: a<=b,\n",
    "    '==': lambda a,b: a==b,\n",
    "    '!=': lambda a,b: a!=b\n",
    "    \n",
    "}\n",
    "\n",
    "oper = {\n",
    "    'inc': lambda a,b: a + b,\n",
    "    'dec': lambda a,b: a - b\n",
    "}\n",
    "\n",
    "mx = 0\n",
    "\n",
    "def execute(op, c):\n",
    "    global mx\n",
    "    if cond[c[1]](registers[c[0]], int(c[2])):\n",
    "        r = oper[op[1]](registers[op[0]], int(op[2]))\n",
    "        if r>mx:\n",
    "            mx = r\n",
    "        registers[op[0]] = r\n",
    "\n",
    "for i in _input:\n",
    "    op = i[0].split(' ')\n",
    "    c = i[1].split(' ')\n",
    "    if not op[0] in registers:\n",
    "        registers[op[0]] = 0\n",
    "    if not c[0] in registers:\n",
    "        registers[c[0]] = 0\n",
    "    execute(op, c)\n",
    "\n",
    "max(registers.values())\n",
    "print mx"
   ]
  },
  {
   "cell_type": "code",
   "execution_count": 26,
   "metadata": {},
   "outputs": [
    {
     "name": "stdout",
     "output_type": "stream",
     "text": [
      "(7640, 4368)\n"
     ]
    }
   ],
   "source": [
    "#day 9 part 1\n",
    "from day9_input import _input\n",
    "\n",
    "def solve_day9(stream):\n",
    "    score = 0\n",
    "    in_group = 0\n",
    "    in_garbage = False\n",
    "    ignore_next = False\n",
    "    canc = 0\n",
    "    for c in stream:\n",
    "        if ignore_next:\n",
    "            ignore_next = False\n",
    "        else:\n",
    "            if c == '!':\n",
    "                ignore_next = True\n",
    "            if c == '{' and not in_garbage:\n",
    "                in_group += 1\n",
    "                score += in_group\n",
    "            if c == '}' and not in_garbage:\n",
    "                in_group -= 1\n",
    "            if c == '<' and not in_garbage:\n",
    "                in_garbage = True\n",
    "                canc -= 1\n",
    "            if c == '>':\n",
    "                in_garbage = False\n",
    "            if in_garbage and not ignore_next:\n",
    "                canc += 1\n",
    "    return score, canc\n",
    "\n",
    "print solve_day9(_input)"
   ]
  },
  {
   "cell_type": "code",
   "execution_count": 7,
   "metadata": {},
   "outputs": [
    {
     "name": "stdout",
     "output_type": "stream",
     "text": [
      "38415\n"
     ]
    }
   ],
   "source": [
    "#day 10 part 1\n",
    "\n",
    "_input = [189,1,111,246,254,2,0,120,215,93,255,50,84,15,94,62]\n",
    "\n",
    "\n",
    "def hash_segment(s, p, L):\n",
    "    split = False\n",
    "    if p+L < len(s):\n",
    "        v = s[p:p+L]\n",
    "    else:\n",
    "        v = s[p:]+s[:(-len(s)+L+p)]\n",
    "        split = True\n",
    "    \n",
    "    v.reverse()\n",
    "    if split:\n",
    "        s[p:] = v[0:len(s)-p]\n",
    "        s[:L-len(s)+p] = v[len(s)-p:]\n",
    "    else:\n",
    "        s[p:p+L] = v\n",
    "    return s\n",
    "\n",
    "def knothash(s, loop = 64, salt = [17, 31, 73, 47, 23]):\n",
    "    v = range(256)\n",
    "    skip = 0\n",
    "    pos = 0\n",
    "    for k in range(loop):\n",
    "        for i in [ord(c) for c in s]+salt: \n",
    "            hash_segment(v, pos, i)\n",
    "            pos = (pos + i + skip) % len(v)\n",
    "            skip += 1\n",
    "    return v\n",
    "\n",
    "def calcBlockHex(h):\n",
    "    i = 0\n",
    "    j = 0\n",
    "\n",
    "    hash = []\n",
    "    for i in range(16):\n",
    "        b = 0\n",
    "        for j in range(16):\n",
    "            b = b ^ h[i*16+j]\n",
    "        hash.append(b)\n",
    "    return \"\".join(\"{:0>2}\".format(hex(h)[2:]) for h in hash)\n",
    "    \n",
    "        \n",
    "\n",
    "r = knothash([chr(i) for i in _input], 1, [])\n",
    "print r[0]*r[1]"
   ]
  },
  {
   "cell_type": "code",
   "execution_count": 8,
   "metadata": {},
   "outputs": [
    {
     "data": {
      "text/plain": [
       "'9de8846431eef262be78f590e39a4848'"
      ]
     },
     "execution_count": 8,
     "metadata": {},
     "output_type": "execute_result"
    }
   ],
   "source": [
    "input = '189,1,111,246,254,2,0,120,215,93,255,50,84,15,94,62'\n",
    "hash1 = knothash(input)\n",
    "calcBlockHex(hash1)"
   ]
  },
  {
   "cell_type": "code",
   "execution_count": 145,
   "metadata": {},
   "outputs": [
    {
     "name": "stdout",
     "output_type": "stream",
     "text": [
      "max dist= 1544.0 dist= 747.0\n"
     ]
    }
   ],
   "source": [
    "#day 11 part 1 & 2\n",
    "from day11_input import _input\n",
    "\n",
    "co = {\n",
    "    'n': (0,1),\n",
    "    's': (0,-1),\n",
    "    'ne':(0.5,0.5),\n",
    "    'se': (0.5,-0.5),\n",
    "    'nw': (-0.5,0.5),\n",
    "    'sw': (-0.5,-0.5)\n",
    "}\n",
    "\n",
    "\n",
    "steps = ['ne', 'ne', 'ne']\n",
    "\n",
    "def solve_day11(steps):\n",
    "    cors = [(co[s][0],co[s][1],1) for s in steps]\n",
    "    return reduce(lambda a,b: (a[0]+b[0], a[1]+b[1], max(dist((a[0]+b[0], a[1]+b[1])), a[2])), cors)\n",
    "\n",
    "\n",
    "def dist(p):\n",
    "    c = 0\n",
    "    x = abs(p[0])\n",
    "    y = abs(p[1])\n",
    "    while x > y:\n",
    "        x -= 1\n",
    "        c += 1\n",
    "    while y > x:\n",
    "        y -= 1\n",
    "        c += 1\n",
    "    return c + x/0.5\n",
    "\n",
    "    \n",
    "pos = solve_day11(_input)\n",
    "print 'max dist=', pos[2], 'dist=', dist(pos)"
   ]
  },
  {
   "cell_type": "code",
   "execution_count": 156,
   "metadata": {},
   "outputs": [],
   "source": [
    "# day 12\n",
    "from day12_input import _input"
   ]
  },
  {
   "cell_type": "code",
   "execution_count": 151,
   "metadata": {},
   "outputs": [
    {
     "name": "stdout",
     "output_type": "stream",
     "text": [
      "288\n"
     ]
    }
   ],
   "source": [
    "visited = []\n",
    "\n",
    "def visit(tree, node):\n",
    "    visited.append(node)\n",
    "    for k in tree[node]:\n",
    "        if not k in visited:\n",
    "            visit(tree, k)\n",
    "\n",
    "visit(_input, 0)\n",
    "print len(visited)"
   ]
  },
  {
   "cell_type": "code",
   "execution_count": 167,
   "metadata": {},
   "outputs": [
    {
     "data": {
      "text/plain": [
       "211"
      ]
     },
     "execution_count": 167,
     "metadata": {},
     "output_type": "execute_result"
    }
   ],
   "source": [
    "from day12_input import _input\n",
    "visited = []\n",
    "\n",
    "def remove(tree, visited):\n",
    "    for v in visited:\n",
    "        tree.pop(v, None)\n",
    "\n",
    "def groups(tree):\n",
    "    g = 0\n",
    "    while len(tree.keys())>0:\n",
    "        visit(tree, tree.keys()[0])\n",
    "        g += 1\n",
    "        remove(tree, visited)\n",
    "    return g\n",
    "\n",
    "groups(_input)\n"
   ]
  },
  {
   "cell_type": "code",
   "execution_count": 9,
   "metadata": {},
   "outputs": [
    {
     "name": "stdout",
     "output_type": "stream",
     "text": [
      "sev= 788\n"
     ]
    }
   ],
   "source": [
    "#day 13\n",
    "from day13_input import firewall\n",
    "\n",
    "def position(t, d):\n",
    "    #print \"p=\",t,d,\n",
    "    p=0\n",
    "    heading = 1\n",
    "    for i in range(t):\n",
    "        p += heading\n",
    "        if p == d-1 or p==0:\n",
    "            heading = -heading\n",
    "    #print p\n",
    "    return p\n",
    "\n",
    "def traverse(firewall):\n",
    "    picosec = 0\n",
    "    end = max(firewall.keys())\n",
    "    severity = 0\n",
    "    for picosec in range(end+1):\n",
    "        if picosec in firewall.keys():\n",
    "            #print \"s=\",picosec,\n",
    "            if position(picosec,firewall[picosec]) == 0:\n",
    "                severity += picosec * firewall[picosec]\n",
    "    return severity\n",
    "\n",
    "print \"sev=\",traverse(firewall)"
   ]
  },
  {
   "cell_type": "code",
   "execution_count": 222,
   "metadata": {
    "scrolled": true
   },
   "outputs": [
    {
     "name": "stdout",
     "output_type": "stream",
     "text": [
      "done!\n",
      "done!\n",
      "3905748\n"
     ]
    }
   ],
   "source": [
    "def position_delay(t, d, delay):\n",
    "    return (t+delay) % (d*2-2)\n",
    "\n",
    "def traverse_delay(firewall, delay):\n",
    "    picosec = 0\n",
    "    end = max(firewall.keys())\n",
    "    for picosec in range(end+1):\n",
    "        if picosec in firewall.keys():\n",
    "            #print \"s=\",picosec,firewall.keys(),\n",
    "            if position_delay(picosec,firewall[picosec],delay) == 0:\n",
    "                #print delay,\"p=\",picosec\n",
    "                return picosec\n",
    "    print \"done!\"\n",
    "    return -1\n",
    "\n",
    "dl = 0\n",
    "h = traverse_delay({0:3,1:2,4:4,6:4}, 10)\n",
    "h = traverse_delay({0:3,1:2,4:4,6:4}, dl)\n",
    "while not h  < 0:\n",
    "    dl += 2\n",
    "    h = traverse_delay(firewall, dl)\n",
    "print dl"
   ]
  },
  {
   "cell_type": "code",
   "execution_count": 10,
   "metadata": {},
   "outputs": [
    {
     "name": "stdout",
     "output_type": "stream",
     "text": [
      "test= 8108\n",
      "solve= 8226\n"
     ]
    }
   ],
   "source": [
    "#day 14\n",
    "\n",
    "_input = \"wenycdww\"\n",
    "test_input = \"flqrgnkx\"\n",
    "\n",
    "def calcBlockBin(input):\n",
    "    i = 0\n",
    "    j = 0\n",
    "\n",
    "    hash = []\n",
    "    for i in range(16):\n",
    "        b = 0\n",
    "        for j in range(16):\n",
    "            b = b ^ input[i*16+j]\n",
    "        hash.append(b)\n",
    "    return \"\".join(\"{:0>8}\".format(bin(h)[2:]) for h in hash)\n",
    "\n",
    "def solve_day14(s):\n",
    "    occupied=0\n",
    "    for j in range(128):\n",
    "        hash1 = knothash(\"{}-{}\".format(s, j))\n",
    "        binhash = calcBlockBin(hash1)\n",
    "        #print binhash[:16]\n",
    "        occupied += reduce((lambda a,b: int(a)+int(b)), binhash)\n",
    "    return occupied\n",
    "\n",
    "print \"test=\",solve_day14(test_input)\n",
    "print \"solve=\",solve_day14(_input)"
   ]
  },
  {
   "cell_type": "code",
   "execution_count": 13,
   "metadata": {},
   "outputs": [
    {
     "name": "stdout",
     "output_type": "stream",
     "text": [
      "Day 14 - part 2: 1128\n"
     ]
    }
   ],
   "source": [
    "#day 14 -2\n",
    "\n",
    "def matrix(m):\n",
    "    matrix=[]\n",
    "    for j in range(128):\n",
    "        hash1 = knothash(\"{}-{}\".format(m, j))\n",
    "        binhash = calcBlockBin(hash1)\n",
    "        matrix.append([-int(c) for c in binhash])\n",
    "    return matrix\n",
    "\n",
    "def find_region(m, e, x, y, n):\n",
    "    if x<0 or x>=len(m[0]) or y<0 or y>=len(m) or (x,y) in e:\n",
    "        return n\n",
    "    e.add((x,y))\n",
    "    if m[x][y] == 0:\n",
    "        return n\n",
    "    m[x][y] = n+1\n",
    "    find_region(m,e,x,y-1,n)\n",
    "    find_region(m,e,x+1,y,n)\n",
    "    find_region(m,e,x,y+1,n)\n",
    "    find_region(m,e,x-1,y,n)\n",
    "    return n+1\n",
    "    \n",
    "\n",
    "def regions(matrix):\n",
    "    explored = set()\n",
    "    n = 0\n",
    "    for x in range(128):\n",
    "        for y in range(128):\n",
    "            n = find_region(matrix, explored, x, y, n)\n",
    "            \n",
    "    return n\n",
    "\n",
    "print \"Day 14.2:\",regions(matrix(_input))"
   ]
  },
  {
   "cell_type": "code",
   "execution_count": 14,
   "metadata": {},
   "outputs": [
    {
     "name": "stdout",
     "output_type": "stream",
     "text": [
      "Day 15.1: 313\n"
     ]
    }
   ],
   "source": [
    "#day 15 part 1\n",
    "from Queue import Queue\n",
    "factor_A = 16807\n",
    "factor_B = 48271\n",
    "\n",
    "divider = 2147483647\n",
    "\n",
    "def nextVal(prev, factor):\n",
    "    return (prev*factor)%divider\n",
    "\n",
    "def compare(a,b):\n",
    "    if a&0xFFFF == b&0xFFFF:\n",
    "        return True\n",
    "\n",
    "test_ga = 65\n",
    "test_gb = 8921\n",
    "#input values\n",
    "ga = 699 \n",
    "gb = 124\n",
    "\n",
    "def solve_day15(ga, gb):\n",
    "    c = 0\n",
    "    qa = Queue()\n",
    "    qb = Queue()\n",
    "    k = 0\n",
    "    while k<5000000:\n",
    "        if ga&3 == 0:\n",
    "            qa.put_nowait(ga)\n",
    "        if gb&7 == 0:\n",
    "            qb.put_nowait(gb)\n",
    "        if not qa.empty() and not qb.empty():\n",
    "            a = qa.get_nowait()\n",
    "            b = qb.get_nowait()\n",
    "            k +=1 \n",
    "            if compare(a, b):\n",
    "                c += 1\n",
    "        ga = nextVal(ga, factor_A)\n",
    "        gb = nextVal(gb, factor_B)\n",
    "    \n",
    "    return c\n",
    "      \n",
    "        \n",
    "print \"Day 15.2:\",solve_day15(699,124)"
   ]
  },
  {
   "cell_type": "code",
   "execution_count": 15,
   "metadata": {},
   "outputs": [
    {
     "name": "stdout",
     "output_type": "stream",
     "text": [
      "['a', 'b', 'c', 'd', 'e', 'f', 'g', 'h', 'i', 'j', 'k', 'l', 'm', 'n', 'o', 'p']\n",
      "Day 16.1: glnacbhedpfjkiom\n"
     ]
    }
   ],
   "source": [
    "#day 16 part 1\n",
    "\n",
    "from day16_input import dance_moves\n",
    "    \n",
    "def swap(dancers, p1, p2):\n",
    "    c = dancers[p1]\n",
    "    dancers[p1] = dancers[p2]\n",
    "    dancers[p2]= c\n",
    "    return dancers\n",
    "    \n",
    "def swap_d(m, d1, d2):\n",
    "    p1 = -1\n",
    "    p2 = -1\n",
    "    i = 0\n",
    "    try:\n",
    "        while p1 == -1 or p2 == -1:\n",
    "            if m[i] == d1:\n",
    "                p1 = i\n",
    "            if m[i] == d2:\n",
    "                p2 = i\n",
    "            i += 1\n",
    "    except:\n",
    "        print m, i, d1, d2, p1, p2\n",
    "    return swap(m, p1, p2)\n",
    "    \n",
    "\n",
    "def shift(dancers, p):\n",
    "    a = dancers[-p:]\n",
    "    dancers[p:] = dancers[:-p]\n",
    "    dancers[:p]=a\n",
    "    return dancers\n",
    "    \n",
    "def dance(dancers, moves):\n",
    "    for m in moves:\n",
    "        if m[0] == 'x':\n",
    "            p = [int(i) for i in m[1:].split('/')]\n",
    "            dancers = swap(dancers, p[0], p[1])\n",
    "        if m[0] == 'p':\n",
    "            dancers = swap_d(dancers, m[1], m[3])\n",
    "        if m[0] == 's':\n",
    "            dancers = shift(dancers, int(m[1:]))\n",
    "    return dancers\n",
    "\n",
    "#print dance(list('abcde'), ['s1','x3/4', 'pe/b'])\n",
    "\n",
    "dancers = [chr(97+i) for i in range(16)]\n",
    "print dancers\n",
    "print \"Day 16.1:\", \"\".join(dance(list(dancers), dance_moves))  "
   ]
  },
  {
   "cell_type": "code",
   "execution_count": 16,
   "metadata": {},
   "outputs": [
    {
     "name": "stdout",
     "output_type": "stream",
     "text": [
      "60\n",
      "fmpanloehgkdcbji\n"
     ]
    }
   ],
   "source": [
    "j = 0 #16666665*60+75\n",
    "dancers = [chr(97+i) for i in range(16)]\n",
    "dancers_init = \"\".join([chr(97+i) for i in range(16)])\n",
    "while j<1000000000:\n",
    "    dancers = dance(dancers, dance_moves)\n",
    "    j += 1\n",
    "    if \"\".join(dancers) == dancers_init:\n",
    "        print j\n",
    "        k = j\n",
    "        j =  1000000000 - 1000000000 % k\n",
    "\n",
    "print \"Day16.2:\",\"\".join(dancers)"
   ]
  },
  {
   "cell_type": "code",
   "execution_count": 17,
   "metadata": {},
   "outputs": [
    {
     "name": "stdout",
     "output_type": "stream",
     "text": [
      "Day 17.1: 433\n"
     ]
    }
   ],
   "source": [
    "#day 17 part 1 spinlock\n",
    "\n",
    "b = [0]\n",
    "cp = 0\n",
    "steps = 348 #input\n",
    "\n",
    "def insert(buf, p, v):\n",
    "    return buf[:(p+1)]+[v]+buf[(p+1):]\n",
    "\n",
    "for k in range(1,2018):\n",
    "    cp = (cp + steps)%len(b)\n",
    "    b = insert(b, cp, k)\n",
    "    cp = cp+1\n",
    "    #print b, cp\n",
    "    \n",
    "print \"Day 17.1:\", b[1]"
   ]
  },
  {
   "cell_type": "code",
   "execution_count": 18,
   "metadata": {},
   "outputs": [
    {
     "name": "stdout",
     "output_type": "stream",
     "text": [
      "Day 17.2: 34334221\n"
     ]
    }
   ],
   "source": [
    "n = 0\n",
    "cp = 0\n",
    "for k in range(1,50000001):\n",
    "    cp = (cp + steps)%k\n",
    "    if cp == 0:\n",
    "        n = k\n",
    "    cp = cp+1\n",
    "    #print b, cp\n",
    "print \"Day 17.2:\",n"
   ]
  },
  {
   "cell_type": "code",
   "execution_count": 170,
   "metadata": {},
   "outputs": [
    {
     "name": "stdout",
     "output_type": "stream",
     "text": [
      "rcv= 7071\n",
      "{'a': 2147483647, 'b': 7071, 'f': 0, 'i': 126, 'p': 1986897071, 'cp': 25}\n",
      "7071\n"
     ]
    }
   ],
   "source": [
    "#day 18 program\n",
    "from day18_input import program\n",
    "from Queue import Queue\n",
    "registry = {}\n",
    "snd = None\n",
    "last = None\n",
    "\n",
    "chA = Queue()\n",
    "chB = Queue()\n",
    "\n",
    "def get_reg(r):\n",
    "    try:\n",
    "        v = int(r)\n",
    "        return v\n",
    "    except ValueError:\n",
    "        if not r in registry:\n",
    "            registry[r] = 0\n",
    "        return registry[r]\n",
    "\n",
    "def set_reg(r,v):\n",
    "    try:\n",
    "        w = int(v)\n",
    "        registry[r]=w\n",
    "    except ValueError:\n",
    "        registry[r] = get_reg(v)\n",
    "    return registry[r]\n",
    "\n",
    "def i_set(a):\n",
    "    set_reg(a[0],a[1])\n",
    "    return 1\n",
    "\n",
    "def i_mult(a):\n",
    "    set_reg(a[0], get_reg(a[0]) * get_reg(a[1]))\n",
    "    return 1\n",
    "\n",
    "def i_add(a):\n",
    "    set_reg(a[0], get_reg(a[0]) + get_reg(a[1]))\n",
    "    return 1\n",
    "\n",
    "def i_mod(a):\n",
    "    set_reg(a[0], get_reg(a[0]) % get_reg(a[1]))\n",
    "    return 1\n",
    "\n",
    "def i_rcv(a):\n",
    "    global snd\n",
    "    global last\n",
    "    if not get_reg(a[0]) == 0:\n",
    "        last = snd\n",
    "        print 'rcv=', last\n",
    "        print registry\n",
    "        return -10000000\n",
    "    return 1\n",
    "\n",
    "def i_jgz(a):\n",
    "    if get_reg(a[0]) > 0:\n",
    "        return get_reg(a[1])\n",
    "    return 1\n",
    "\n",
    "def i_snd(a):\n",
    "    global snd\n",
    "    #print \"reg=\",registry\n",
    "    snd = get_reg(a[0])\n",
    "    #print 'snd =', snd\n",
    "    return 1\n",
    "    \n",
    "\n",
    "cpu = {\n",
    "    'set': i_set,\n",
    "    'mul': i_mult,\n",
    "    'add': i_add,\n",
    "    'mod': i_mod,\n",
    "    'rcv': i_rcv,\n",
    "    'jgz': i_jgz,\n",
    "    'snd': i_snd\n",
    "}\n",
    "\n",
    "test_prog = ['set a 1','add a 2','mul a a','mod a 5','snd a','set a 0','rcv a','jgz a -1','set a 1','jgz a -2']\n",
    "\n",
    "def run_prog(p):\n",
    "    registry['cp'] = 0\n",
    "    cp = 0\n",
    "    while cp<len(p) and cp>=0:\n",
    "        inst = p[cp]\n",
    "        #print inst, registry\n",
    "        cp += cpu[inst[:3]](inst[4:].split(\" \"))\n",
    "        registry['cp'] = cp\n",
    "        \n",
    "run_prog(program)\n",
    "print last"
   ]
  },
  {
   "cell_type": "code",
   "execution_count": 197,
   "metadata": {},
   "outputs": [
    {
     "name": "stdout",
     "output_type": "stream",
     "text": [
      "p0 wait\n",
      "snd_n= 8001 {'a': 103, 'b': 103, 'f': 0, 'i': 0, 'p': -67, 'cp': 21} {'a': 103, 'b': 103, 'f': 0, 'i': 0, 'p': -67, 'cp': 21} rcv b rcv b 0 0\n"
     ]
    }
   ],
   "source": [
    "#day 18 part 2\n",
    "from day18_input import program\n",
    "from Queue import Queue\n",
    "\n",
    "ch0 = Queue()\n",
    "ch1 = Queue()\n",
    "\n",
    "def get_reg(r, registry):\n",
    "    try:\n",
    "        v = int(r)\n",
    "        return v\n",
    "    except ValueError:\n",
    "        if not r in registry:\n",
    "            registry[r] = 0\n",
    "        return registry[r]\n",
    "\n",
    "def set_reg(r,v, registry):\n",
    "    try:\n",
    "        w = int(v)\n",
    "        registry[r]=w\n",
    "    except ValueError:\n",
    "        registry[r] = get_reg(v, registry)\n",
    "    return registry[r]\n",
    "\n",
    "def i_set(a, reg):\n",
    "    set_reg(a[0],a[1], reg)\n",
    "    return 1\n",
    "\n",
    "def i_mult(a, reg):\n",
    "    set_reg(a[0], get_reg(a[0], reg) * get_reg(a[1], reg), reg)\n",
    "    return 1\n",
    "\n",
    "def i_add(a, reg):\n",
    "    set_reg(a[0], get_reg(a[0], reg) + get_reg(a[1],reg), reg)\n",
    "    return 1\n",
    "\n",
    "def i_mod(a, reg):\n",
    "    set_reg(a[0], get_reg(a[0],reg) % get_reg(a[1],reg), reg)\n",
    "    return 1\n",
    "\n",
    "def i_jgz(a, reg):\n",
    "    if get_reg(a[0], reg) > 0:\n",
    "        return get_reg(a[1], reg)\n",
    "    return 1\n",
    "\n",
    "def i_rcv(a, reg, ch, pid):\n",
    "    if ch.empty():\n",
    "        return 0\n",
    "    v = ch.get_nowait()\n",
    "    #print v, pid\n",
    "    set_reg(a[0], v, reg)\n",
    "    return 1\n",
    "\n",
    "def i_snd(a, reg, ch, pid):\n",
    "    #print \"reg=\",registry\n",
    "    v = get_reg(a[0], reg)\n",
    "    ch.put_nowait(v)\n",
    "    #print v, pid\n",
    "    return 1\n",
    "    \n",
    "\n",
    "cpu = {\n",
    "    'set': i_set,\n",
    "    'mul': i_mult,\n",
    "    'add': i_add,\n",
    "    'mod': i_mod,\n",
    "    'rcv': i_rcv,\n",
    "    'jgz': i_jgz,\n",
    "    'snd': i_snd\n",
    "}\n",
    "\n",
    "def run_prog_2(p):\n",
    "    reg0 = {}\n",
    "    reg1 = {}\n",
    "    reg0['cp'] = 0\n",
    "    reg0['p'] = 0\n",
    "    reg1['cp'] = 0\n",
    "    reg1['p'] = 1\n",
    "    cp0=reg0['cp']\n",
    "    cp1=reg1['cp']\n",
    "    snd_c = 0\n",
    "    while cp0<len(p) and cp0>=0 and cp1<len(p) and cp1>=0:\n",
    "        inst0 = p[cp0]\n",
    "        #print inst, registry\n",
    "        if inst0[:3] == 'rcv':\n",
    "            next0 = cpu[inst0[:3]](inst0[4:].split(\" \"), reg0, ch1, 0)\n",
    "            #if next0 == 0:\n",
    "            #    print 'p0 wait'\n",
    "        elif inst0[:3] == 'snd':\n",
    "            next0 = cpu[inst0[:3]](inst0[4:].split(\" \"), reg0, ch0, 0)\n",
    "        else:  \n",
    "            next0 = cpu[inst0[:3]](inst0[4:].split(\" \"), reg0)\n",
    "        cp0 += next0\n",
    "        reg0['cp'] = cp0\n",
    "        inst1 = p[cp1]\n",
    "        #print inst, registry\n",
    "        if inst1[:3] == 'rcv':\n",
    "            next1 = cpu[inst1[:3]](inst1[4:].split(\" \"), reg1, ch0, 1)\n",
    "            #if next1 == 0:\n",
    "             #   print 'p1 wait', reg1\n",
    "        elif inst1[:3] == 'snd':\n",
    "            next1 = cpu[inst1[:3]](inst1[4:].split(\" \"), reg1, ch1, 1)\n",
    "            snd_c += 1\n",
    "        else:  \n",
    "            next1 = cpu[inst1[:3]](inst1[4:].split(\" \"), reg1)\n",
    "            #print inst1, reg1, next1\n",
    "        cp1 += next1\n",
    "        reg1['cp'] = cp1\n",
    "        if next0 == 0 and next1 == 0:\n",
    "            break;\n",
    "    print 'snd_n=', snd_c, reg0, reg1, inst0, inst1, ch0.qsize(), ch1.qsize()\n",
    "\n",
    "run_prog_2(program)\n"
   ]
  },
  {
   "cell_type": "code",
   "execution_count": 1,
   "metadata": {},
   "outputs": [],
   "source": [
    "#day 19 part 1 - network\n",
    "\n",
    "from day18_input import net\n",
    "\n",
    "test_net=[\n",
    "'     |          ',\n",
    "'     |  +--+    ',\n",
    "'     A  |  C    ',\n",
    "' F---|--|-E---+ ',\n",
    "'     |  |  |  D ',\n",
    "'     +B-+  +--+ ']"
   ]
  },
  {
   "cell_type": "code",
   "execution_count": 237,
   "metadata": {},
   "outputs": [
    {
     "name": "stdout",
     "output_type": "stream",
     "text": [
      "s= ABCDEF\n",
      "steps= 38\n",
      "-----------\n",
      "s= PBAZYFMHT\n",
      "steps= 16072\n"
     ]
    }
   ],
   "source": [
    "\n",
    "\n",
    "def find_entry(net):\n",
    "    for i in range(len(net[0])):\n",
    "        if net[0][i] == '|':\n",
    "            return i\n",
    "    raise ValueError\n",
    "    \n",
    "def scan_turn(net, x, y, dx, dy,s):\n",
    "    if dx == 0:\n",
    "        if net[y][x+1] != ' ':\n",
    "            return x, y, 1, 0,s\n",
    "        if net[y][x-1] != ' ':\n",
    "            return x, y, -1,0,s\n",
    "        raise Error # What?\n",
    "    if dy == 0:\n",
    "        if net[y+1][x] != ' ':\n",
    "            return x, y,0,1,s\n",
    "        if net[y-1][x] != ' ':\n",
    "            return x, y,0,-1,s\n",
    "        raise Error # What?\n",
    "        \n",
    "def find_next(net, x, y, dx, dy, s):\n",
    "    y += dy\n",
    "    x += dx\n",
    "    if net[y][x] == '+':\n",
    "        return scan_turn(net, x, y, dx, dy, s)\n",
    "    elif net[y][x]>='A' and net[y][x]<='Z':\n",
    "        #print net[y][x], x, y\n",
    "        s += net[y][x]\n",
    "        #print s\n",
    "    elif net[y][x] == ' ':\n",
    "        #print \"s=\",s, x, y, dx, dy\n",
    "        raise ValueError # Ugly but efficient way of stopping the loop\n",
    "    return x, y, dx, dy, s\n",
    "    \n",
    "def solve(net):\n",
    "    x = find_entry(net)\n",
    "    y = 0\n",
    "    cont = True\n",
    "    dirx = 0\n",
    "    diry = 1\n",
    "    s = \"\"\n",
    "    c = 0\n",
    "    try:\n",
    "        while True:\n",
    "            x, y, dirx, diry, s = find_next(net, x, y, dirx, diry, s)\n",
    "            #print x,y, dirx, diry\n",
    "            c += 1 #part 2 - count steps\n",
    "    except ValueError:\n",
    "        print \"s=\", s\n",
    "        print \"steps=\",c+1\n",
    "        \n",
    "        \n",
    "            \n",
    "        \n",
    "solve(test_net)\n",
    "print '-----------'\n",
    "solve(net)"
   ]
  },
  {
   "cell_type": "code",
   "execution_count": 19,
   "metadata": {},
   "outputs": [],
   "source": [
    "# day 20 \n",
    "from day20_input import particles"
   ]
  },
  {
   "cell_type": "code",
   "execution_count": 23,
   "metadata": {},
   "outputs": [
    {
     "name": "stdout",
     "output_type": "stream",
     "text": [
      "Day 20#1: 91 acc vec =  0\n"
     ]
    }
   ],
   "source": [
    "import operator\n",
    "\n",
    "idx, val = min(enumerate([a[0]*a[0]+a[1]*a[1]+a[2]*a[2] for a in [v['a'] for v in particles]]), key=operator.itemgetter(1))\n",
    "\n",
    "print 'Day 20#1:',idx, 'acc vec = ',val\n"
   ]
  },
  {
   "cell_type": "code",
   "execution_count": 22,
   "metadata": {},
   "outputs": [
    {
     "name": "stdout",
     "output_type": "stream",
     "text": [
      "Day 20#2 remaining= 567\n"
     ]
    }
   ],
   "source": [
    "def update_vec(p, a):\n",
    "    return (p[0]+a[0], p[1]+a[1], p[2]+a[2])\n",
    "        \n",
    "def update_pos(parts):\n",
    "    for p in parts:\n",
    "        p['v'] = update_vec(p['v'], p['a'])\n",
    "        p['p'] = update_vec(p['p'], p['v'])\n",
    "        \n",
    "\n",
    "def solve(k):\n",
    "    parts = []\n",
    "    #deep copy k\n",
    "    for p in k:\n",
    "        parts.append(dict(p))\n",
    "    \n",
    "    for j in range(1000): # this is not nice, but works, should instead check if collisions are possible\n",
    "        update_pos(parts)\n",
    "        coll = {}\n",
    "        for i in range(len(parts)):\n",
    "            part = parts[i]\n",
    "            if not part['p'] in coll:\n",
    "                coll[part['p']] = []\n",
    "            coll[part['p']].append(i)\n",
    "            \n",
    "        #print coll\n",
    "        try: \n",
    "            indexes = reduce(lambda a,b: a+b ,[v for v in coll.values() if len(v)>1])\n",
    "            if len(indexes)>0:\n",
    "                #print indexes\n",
    "                i_new = []\n",
    "                for i in range(len(parts)):\n",
    "                    if not i in indexes:\n",
    "                        i_new.append(parts[i])\n",
    "                #print 'rem=',len(i_new)\n",
    "                parts = i_new\n",
    "        except TypeError:\n",
    "            next\n",
    "    return len(parts)\n",
    "\n",
    "print 'Day 20#2 remaining=',solve(particles)"
   ]
  },
  {
   "cell_type": "code",
   "execution_count": null,
   "metadata": {},
   "outputs": [],
   "source": []
  }
 ],
 "metadata": {
  "kernelspec": {
   "display_name": "Python 2",
   "language": "python",
   "name": "python2"
  },
  "language_info": {
   "codemirror_mode": {
    "name": "ipython",
    "version": 2
   },
   "file_extension": ".py",
   "mimetype": "text/x-python",
   "name": "python",
   "nbconvert_exporter": "python",
   "pygments_lexer": "ipython2",
   "version": "2.7.13"
  }
 },
 "nbformat": 4,
 "nbformat_minor": 2
}
